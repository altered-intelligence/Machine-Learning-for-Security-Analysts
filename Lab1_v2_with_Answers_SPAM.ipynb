{
  "nbformat": 4,
  "nbformat_minor": 0,
  "metadata": {
    "colab": {
      "provenance": [],
      "collapsed_sections": [
        "dPtTuWPDhy_Y",
        "e4BvaXgBOmxv",
        "2h_fentliZuA",
        "js7XaCCEPJtZ",
        "iAh5AQOwP72_",
        "q4PmEWehhCDo",
        "Oh5CNmcGQ_lk",
        "UujcLc_sUSdI",
        "YLMzUWT5VQMk",
        "TeE--QtjjhIV",
        "F8XRvFQiWYDB",
        "L08z7zxuYNs3",
        "UyiNCVFlloOL",
        "cndMVm3Qht9r",
        "F7hyvnwxj5y-",
        "3KmNRsISkTnc",
        "VgFq9cZ4kbzP",
        "C0aUsH92lJzq"
      ],
      "include_colab_link": true
    },
    "kernelspec": {
      "name": "python3",
      "display_name": "Python 3"
    }
  },
  "cells": [
    {
      "cell_type": "markdown",
      "metadata": {
        "id": "view-in-github",
        "colab_type": "text"
      },
      "source": [
        "<a href=\"https://colab.research.google.com/github/altered-intelligence/Machine-Learning-for-Security-Analysts/blob/master/Lab1_v2_with_Answers_SPAM.ipynb\" target=\"_parent\"><img src=\"https://colab.research.google.com/assets/colab-badge.svg\" alt=\"Open In Colab\"/></a>"
      ]
    },
    {
      "cell_type": "markdown",
      "metadata": {
        "id": "SwawBDPuhgUP"
      },
      "source": [
        "# Machine Learning for Security Analysts - Workbook </br> Spam Filter (Scikit-learn)\n",
        "\n",
        "---\n",
        "\n",
        "\n",
        "\n",
        "\n",
        "**Dataset:** https://github.com/altered-intelligence/Machine-Learning-for-Security-Analysts\n",
        "\n",
        "**Goal:** This workbook will walk you through the steps to build, train, test, and evaluate a series of spam classifiers using the Scikit-learn machine learning library\n",
        "\n",
        "**Outline:**\n",
        "* Initial Setup\n",
        "* Tokenization\n",
        "* Load Training Data\n",
        "* Vectorize Training Data\n",
        "* Load Testing Data\n",
        "* Train and Evaluate Models\n"
      ]
    },
    {
      "cell_type": "markdown",
      "metadata": {
        "id": "mxS4n9Gfyvw2"
      },
      "source": [
        "## Instructions\n",
        "To use Jupyter notebooks:\n",
        "* To run a cell, click on the play button to the left of the code or pressh shift+enter\n",
        "* You will see a busy indicator in the top left area while the runtime is executing\n",
        "* A number will appear when the cell is done\n",
        "\n",
        "To complete the workbook:\n",
        "* Step through the workbook, completing the tasks in order"
      ]
    },
    {
      "cell_type": "markdown",
      "metadata": {
        "id": "VjMomkNIzsJd"
      },
      "source": [
        "# Initial Setup\n",
        "We'll start by downloading the data and loading the needed libraries."
      ]
    },
    {
      "cell_type": "code",
      "metadata": {
        "id": "YM57dpKHMi8z",
        "colab": {
          "base_uri": "https://localhost:8080/"
        },
        "outputId": "9875224b-c8b0-4e93-a860-ff7c8f6b0ee8"
      },
      "source": [
        "# Download data from Github\n",
        "! git clone https://github.com/altered-intelligence/Machine-Learning-for-Security-Analysts.git\n",
        "\n",
        "# Install dependencies\n",
        "! pip install nltk sklearn pandas matplotlib seaborn\n",
        "data_dir = \"Machine-Learning-for-Security-Analysts\""
      ],
      "execution_count": 5,
      "outputs": [
        {
          "output_type": "stream",
          "name": "stdout",
          "text": [
            "Cloning into 'Machine-Learning-for-Security-Analysts'...\n",
            "remote: Enumerating objects: 4210, done.\u001b[K\n",
            "remote: Counting objects: 100% (4210/4210), done.\u001b[K\n",
            "remote: Compressing objects: 100% (3972/3972), done.\u001b[K\n",
            "remote: Total 4210 (delta 235), reused 4195 (delta 226), pack-reused 0\u001b[K\n",
            "Receiving objects: 100% (4210/4210), 14.77 MiB | 17.69 MiB/s, done.\n",
            "Resolving deltas: 100% (235/235), done.\n",
            "Requirement already satisfied: nltk in /usr/local/lib/python3.10/dist-packages (3.8.1)\n",
            "Collecting sklearn\n",
            "  Downloading sklearn-0.0.post12.tar.gz (2.6 kB)\n",
            "  \u001b[1;31merror\u001b[0m: \u001b[1msubprocess-exited-with-error\u001b[0m\n",
            "  \n",
            "  \u001b[31m×\u001b[0m \u001b[32mpython setup.py egg_info\u001b[0m did not run successfully.\n",
            "  \u001b[31m│\u001b[0m exit code: \u001b[1;36m1\u001b[0m\n",
            "  \u001b[31m╰─>\u001b[0m See above for output.\n",
            "  \n",
            "  \u001b[1;35mnote\u001b[0m: This error originates from a subprocess, and is likely not a problem with pip.\n",
            "  Preparing metadata (setup.py) ... \u001b[?25l\u001b[?25herror\n",
            "\u001b[1;31merror\u001b[0m: \u001b[1mmetadata-generation-failed\u001b[0m\n",
            "\n",
            "\u001b[31m×\u001b[0m Encountered error while generating package metadata.\n",
            "\u001b[31m╰─>\u001b[0m See above for output.\n",
            "\n",
            "\u001b[1;35mnote\u001b[0m: This is an issue with the package mentioned above, not pip.\n",
            "\u001b[1;36mhint\u001b[0m: See above for details.\n"
          ]
        }
      ]
    },
    {
      "cell_type": "code",
      "metadata": {
        "id": "_6QcEtvzX-E9"
      },
      "source": [
        "# Common imports\n",
        "import re, os, math, string, json\n",
        "import pandas as pd\n",
        "import numpy as np\n",
        "import matplotlib.pyplot as plt\n",
        "import random\n",
        "import re\n",
        "\n",
        "%matplotlib inline\n",
        "\n",
        "# Import Natural Language ToolKit library and download dictionaries\n",
        "import nltk\n",
        "nltk.download('stopwords')\n",
        "nltk.download('punkt')\n",
        "\n",
        "\n",
        "# Import Scikit-learn helper functions\n",
        "from sklearn.model_selection import train_test_split\n",
        "from sklearn.feature_extraction.text import TfidfVectorizer, CountVectorizer\n",
        "\n",
        "\n",
        "# Import Scikit-learn models\n",
        "from sklearn.linear_model import LogisticRegression\n",
        "from sklearn.naive_bayes import MultinomialNB\n",
        "\n",
        "\n",
        "# Import Scikit-learn metric functions\n",
        "from sklearn.metrics import confusion_matrix, classification_report\n",
        "import seaborn as sns\n",
        "\n",
        "\n",
        "\n",
        "print(\"\\n### Libraries imported ###\\n\")"
      ],
      "execution_count": null,
      "outputs": []
    },
    {
      "cell_type": "code",
      "metadata": {
        "id": "lhkR4nMLMmRT",
        "colab": {
          "base_uri": "https://localhost:8080/"
        },
        "outputId": "df52b6c9-da8b-4304-f60c-fe4bf64e8fdf"
      },
      "source": [
        "# Test email from lecture slides\n",
        "test_email = \"\"\"\n",
        "Re: Re: East Asian fonts in Lenny. Thanks for your support.  Installing unifonts did it well for me. ;)\n",
        "Nima\n",
        "--\n",
        "To UNSUBSCRIBE, email to debian-user-REQUEST@lists.debian.org\n",
        "with a subject of \"unsubscribe\". Trouble? Contact listmaster@lists.debian.org\n",
        "\"\"\"\n",
        "print(test_email)"
      ],
      "execution_count": 8,
      "outputs": [
        {
          "output_type": "stream",
          "name": "stdout",
          "text": [
            "\n",
            "Re: Re: East Asian fonts in Lenny. Thanks for your support.  Installing unifonts did it well for me. ;)\n",
            "Nima\n",
            "--\n",
            "To UNSUBSCRIBE, email to debian-user-REQUEST@lists.debian.org\n",
            "with a subject of \"unsubscribe\". Trouble? Contact listmaster@lists.debian.org\n",
            "\n"
          ]
        }
      ]
    },
    {
      "cell_type": "markdown",
      "metadata": {
        "id": "dPtTuWPDhy_Y"
      },
      "source": [
        "# Tokenization\n",
        "Continuing from where we left off with the slides, we'll start by creating our tokenizer."
      ]
    },
    {
      "cell_type": "code",
      "metadata": {
        "id": "qJKg9PaNMnA3"
      },
      "source": [
        "# Define tokenizer\n",
        "#   The purpose of a tokenizer is to separate the features from the raw data\n",
        "\n",
        "def tokenizer(text):\n",
        "  \"\"\"Separates feature words from the raw data\n",
        "  Keyword arguments:\n",
        "    text ---- The full email body\n",
        "\n",
        "  :Returns -- The tokenized words; returned as a list\n",
        "  \"\"\"\n",
        "\n",
        "  # Retrieve a list of punctuation characters, a list of stopwords, and a stemmer function\n",
        "  punctuations = list(string.punctuation)\n",
        "  stopwords = nltk.corpus.stopwords.words('english')\n",
        "  stemmer = nltk.stem.PorterStemmer()\n",
        "\n",
        "\n",
        "  # Set email body to lowercase, separate words and strip out punctuation\n",
        "  tokens = nltk.word_tokenize(text.lower())\n",
        "  tokens = [i.strip(''.join(punctuations))\n",
        "            for i in tokens\n",
        "            if i not in punctuations]\n",
        "\n",
        "\n",
        "  # User Porter Stemmer on each token\n",
        "  tokens = [stemmer.stem(i)\n",
        "            for i in tokens]\n",
        "  return [w for w in tokens if w not in stopwords and w != \"\"]\n",
        "\n",
        "print(\"\\n### Tokenizer defined ###\\n\")"
      ],
      "execution_count": null,
      "outputs": []
    },
    {
      "cell_type": "markdown",
      "metadata": {
        "id": "e4BvaXgBOmxv"
      },
      "source": [
        "## Task 1 - Tokenize an email\n",
        "1. Print the full email, **test_email**\n",
        "2. Print the results of **tokenizer(test_email)**"
      ]
    },
    {
      "cell_type": "code",
      "metadata": {
        "id": "dGV5z4DRPHG-",
        "colab": {
          "base_uri": "https://localhost:8080/"
        },
        "outputId": "cff325b7-7109-4be9-98a3-d6bca2344aa2"
      },
      "source": [
        "# Let's see how our tokenizer changes our email\n",
        "print(\"\\n- Test Email Body -\\n\")\n",
        "print(test_email)\n",
        "\n",
        "# Tokenize test email\n",
        "print(\"\\n - Tokenized Output -\\n\")\n",
        "tokenized_email = tokenizer(test_email)\n",
        "print(tokenized_email)\n",
        "\n",
        "\n",
        "\n"
      ],
      "execution_count": 10,
      "outputs": [
        {
          "output_type": "stream",
          "name": "stdout",
          "text": [
            "\n",
            "- Test Email Body -\n",
            "\n",
            "\n",
            "Re: Re: East Asian fonts in Lenny. Thanks for your support.  Installing unifonts did it well for me. ;)\n",
            "Nima\n",
            "--\n",
            "To UNSUBSCRIBE, email to debian-user-REQUEST@lists.debian.org\n",
            "with a subject of \"unsubscribe\". Trouble? Contact listmaster@lists.debian.org\n",
            "\n",
            "\n",
            " - Tokenized Output -\n",
            "\n",
            "['east', 'asian', 'font', 'lenni', 'thank', 'support', 'instal', 'unifont', 'well', 'nima', 'unsubscrib', 'email', 'debian-user-request', 'lists.debian.org', 'subject', 'unsubscrib', 'troubl', 'contact', 'listmast', 'lists.debian.org']\n"
          ]
        }
      ]
    },
    {
      "cell_type": "markdown",
      "metadata": {
        "id": "2h_fentliZuA"
      },
      "source": [
        "# Load Training Data\n",
        "With our tokenizer defined, let's take a look at our training data."
      ]
    },
    {
      "cell_type": "code",
      "metadata": {
        "id": "UT3pENI0iuMS",
        "colab": {
          "base_uri": "https://localhost:8080/"
        },
        "outputId": "e537267d-c2ee-4572-d0fe-aee6447b5227"
      },
      "source": [
        "# Get counts of each class\n",
        "ham_count = len(os.listdir(data_dir+\"/ham\"))\n",
        "spam_count = len(os.listdir(data_dir+\"/spam\"))\n",
        "test_count = len(os.listdir(data_dir+\"/test\"))\n",
        "print(\"\\n### Class Counting Complete ###\\n\")"
      ],
      "execution_count": 11,
      "outputs": [
        {
          "output_type": "stream",
          "name": "stdout",
          "text": [
            "\n",
            "### Class Counting Complete ###\n",
            "\n"
          ]
        }
      ]
    },
    {
      "cell_type": "markdown",
      "metadata": {
        "id": "js7XaCCEPJtZ"
      },
      "source": [
        "## Task 2 - Load training data\n",
        "1. Create two *list()* arrays: **corpus** and **labels**\n",
        "2. Load the email bodies from from the **/ham** and **/spam** directories into the *corpus* array\n",
        "3. Load the labels for each email into the *labels* array\n",
        "\n",
        "\\* The lengths of *corpus* and *labels* should be identical"
      ]
    },
    {
      "cell_type": "code",
      "metadata": {
        "id": "tD1gB8EUMn6Q",
        "colab": {
          "base_uri": "https://localhost:8080/"
        },
        "outputId": "7869d164-00c0-4d06-d02d-fad01911e852"
      },
      "source": [
        "# Load the training data\n",
        "#   \"corpus\" is used to store all of the email bodies in a list\n",
        "#   \"labels\" is used to store all of the labes for those email bodies\n",
        "\n",
        "# Data and label arrays\n",
        "# (Write code here)\n",
        "corpus = []   # X values\n",
        "labels = []   # Y values\n",
        "\n",
        "\n",
        "\n",
        "\n",
        "# Load all of the emails from the \"ham\" directory\n",
        "print(\"- Loading Ham -\")\n",
        "# (Write code here)\n",
        "for each in os.listdir(data_dir + '/ham'):\n",
        "  with open(data_dir + '/ham/' + each, 'r') as f:\n",
        "    corpus.append(f.read())\n",
        "    labels.append(\"ham\")\n",
        "\n",
        "\n",
        "\n",
        "\n",
        "# Load all of the emails from the \"spam\" directory\n",
        "print(\"- Loading Spam -\")\n",
        "# (Write code here)\n",
        "for each in os.listdir(data_dir + '/spam'):\n",
        "  with open(data_dir + '/spam/'+each, 'r') as f:\n",
        "    corpus.append(f.read())\n",
        "    labels.append(\"spam\")\n",
        "\n",
        "\n",
        "\n",
        "\n",
        "\n",
        "# (Keep the following lines)\n",
        "print(\"\\n### Loading Complete ###\\n\")"
      ],
      "execution_count": 12,
      "outputs": [
        {
          "output_type": "stream",
          "name": "stdout",
          "text": [
            "- Loading Ham -\n",
            "- Loading Spam -\n",
            "\n",
            "### Loading Complete ###\n",
            "\n"
          ]
        }
      ]
    },
    {
      "cell_type": "code",
      "metadata": {
        "id": "ckYcXPpq49Co",
        "colab": {
          "base_uri": "https://localhost:8080/",
          "height": 535
        },
        "outputId": "84e08dec-e00c-4882-85ec-029499aa4523"
      },
      "source": [
        "# Print counts of each class\n",
        "count_classes = pd.value_counts(labels)\n",
        "print(\"Ham:\", count_classes['ham'])\n",
        "print(\"Spam:\", count_classes['spam'])\n",
        "\n",
        "# Graph counts of each class\n",
        "count_classes.plot(kind=\"bar\", fontsize=16)\n",
        "plt.title(\"Class count (training)\", fontsize=20)\n",
        "plt.xticks(rotation=\"horizontal\")\n",
        "plt.xlabel(\"Class\", fontsize=20)\n",
        "plt.ylabel(\"Class Count\", fontsize=20)\n",
        "plt.show()"
      ],
      "execution_count": 13,
      "outputs": [
        {
          "output_type": "stream",
          "name": "stdout",
          "text": [
            "Ham: 2359\n",
            "Spam: 1102\n"
          ]
        },
        {
          "output_type": "display_data",
          "data": {
            "text/plain": [
              "<Figure size 640x480 with 1 Axes>"
            ],
            "image/png": "[encoded data removed]"
          },
          "metadata": {}
        }
      ]
    },
    {
      "cell_type": "markdown",
      "metadata": {
        "id": "iAh5AQOwP72_"
      },
      "source": [
        "## Task 2a (optional) - View training data\n",
        "1. Show the full text body of a random email in *corpus*\n",
        "2. Show the *tokenized* result of the same email"
      ]
    },
    {
      "cell_type": "code",
      "metadata": {
        "id": "Mk4n6DvQMowG",
        "colab": {
          "base_uri": "https://localhost:8080/"
        },
        "outputId": "3ed6e2f2-23d2-45d0-b5aa-543a0e5e7f50"
      },
      "source": [
        "# Let's see how our corpus looks\n",
        "\n",
        "\n",
        "\n",
        "print(\"\\n- Email Body -\\n\")\n",
        "#(Write code here)\n",
        "print(corpus[7])\n",
        "\n",
        "\n",
        "\n",
        "\n",
        "\n",
        "\n",
        "print(\"\\n- Tokenized Output -\\n\")\n",
        "# (Write code here)\n",
        "print(tokenizer(corpus[7]))\n",
        "\n",
        "\n",
        "\n",
        "\n"
      ],
      "execution_count": 14,
      "outputs": [
        {
          "output_type": "stream",
          "name": "stdout",
          "text": [
            "\n",
            "- Email Body -\n",
            "\n",
            "Re: Debian And Advanced Layer3 9924TAndreas Weber put forth on 4/6/2010 4:12 PM:\n",
            "> Stan Hoeppner wrote:\n",
            ">> Please forgive me if my choice of words offended you.  That wasn't my\n",
            ">> intention at all.  I was speaking figuratively, not literally.\n",
            "> \n",
            "> No problem, thanks for your feedback. Your point is clear and I can very\n",
            "> well understand your disagreement with my recommendation.\n",
            "> \n",
            ">> My point was\n",
            ">> that swapping out the production switch, which probably has others users\n",
            ">> plugged in, ...\n",
            "> \n",
            "> I assumed differently here (new switch in the house, first tests), but\n",
            "> the OP isn't precise about that IMO.\n",
            "> \n",
            "> I'll try to be as little ambiguous as possible the next time, sorry.\n",
            "\n",
            "No sweat.  We're all on the same team.  I wish Alejandro would send an\n",
            "update.  I'm kinda curious as to what was/is actually causing the problem.\n",
            ">From the very sparse info he provided, the cause could really be nearly\n",
            "anything.\n",
            "\n",
            "Come to think of it, has he even replied to any of our posts?  It doesn't\n",
            "look like he has.  Seems that communication with the Cubans on debian-users\n",
            "is just plain spotty, whatever the reason.\n",
            "\n",
            "If we don't hear back, I hope he got it working.\n",
            "\n",
            "-- \n",
            "Stan\n",
            "\n",
            "\n",
            "-- \n",
            "To UNSUBSCRIBE, email to debian-user-REQUEST@lists.debian.org \n",
            "with a subject of \"unsubscribe\". Trouble? Contact listmaster@lists.debian.org\n",
            "Archive: http://lists.debian.org/4BBC66E5.1000003@hardwarefreak.com\n",
            "\n",
            "\n",
            "\n",
            "\n",
            "- Tokenized Output -\n",
            "\n",
            "['debian', 'advanc', 'layer3', '9924tandrea', 'weber', 'put', 'forth', '4/6/2010', '4:12', 'pm', 'stan', 'hoeppner', 'wrote', 'pleas', 'forgiv', 'choic', 'word', 'offend', 'wa', \"n't\", 'intent', 'wa', 'speak', 'figur', 'liter', 'problem', 'thank', 'feedback', 'point', 'clear', 'veri', 'well', 'understand', 'disagr', 'recommend', 'point', 'wa', 'swap', 'product', 'switch', 'probabl', 'ha', 'user', 'plug', 'assum', 'differ', 'new', 'switch', 'hous', 'first', 'test', 'op', \"n't\", 'precis', 'imo', 'tri', 'littl', 'ambigu', 'possibl', 'next', 'time', 'sorri', 'sweat', 'team', 'wish', 'alejandro', 'would', 'send', 'updat', 'kinda', 'curiou', 'was/i', 'actual', 'caus', 'problem', 'veri', 'spars', 'info', 'provid', 'caus', 'could', 'realli', 'nearli', 'anyth', 'come', 'think', 'ha', 'even', 'repli', 'ani', 'post', 'look', 'like', 'ha', 'seem', 'commun', 'cuban', 'debian-us', 'plain', 'spotti', 'whatev', 'reason', \"n't\", 'hear', 'back', 'hope', 'got', 'work', 'stan', 'unsubscrib', 'email', 'debian-user-request', 'lists.debian.org', 'subject', 'unsubscrib', 'troubl', 'contact', 'listmast', 'lists.debian.org', 'archiv', 'http', 'lists.debian.org/4bbc66e5.1000003', 'hardwarefreak.com']\n"
          ]
        }
      ]
    },
    {
      "cell_type": "markdown",
      "metadata": {
        "id": "q4PmEWehhCDo"
      },
      "source": [
        "# Vectorize the Data\n",
        "Now that the training data has been loaded, we'll train the vectorizers to turn our features into numbers.\n",
        "\n",
        "\n"
      ]
    },
    {
      "cell_type": "markdown",
      "metadata": {
        "id": "Oh5CNmcGQ_lk"
      },
      "source": [
        "## Task 3 - Train the vectorizers\n",
        "1. Create the count vectorizer **cVec** using the **CountVectorizer** function\n",
        "2. Configure *cVec* to use the *tokenizer* function from earlier\n",
        "3. Perform **fit_transform** on *cVec* to train the vectorizer with the *corpus*\\\n",
        "a. Save the result as **count_X**\n",
        "\n",
        "\n",
        "4. Create the TF-IDF vectorizer **tVec** using the **TfidfVectorizer** function\n",
        "5. Configure *tVec* to use the *tokenizer* function from earlier\n",
        "6. Perform **fit_transform** on *tVec* to train the vectorizer with the *corpus*\\\n",
        "a. Save the result as **tfidf_X**"
      ]
    },
    {
      "cell_type": "code",
      "metadata": {
        "id": "j7U5uXWGduem",
        "colab": {
          "base_uri": "https://localhost:8080/"
        },
        "outputId": "bd556c93-75ad-48d4-f62e-6a612b74c4c8"
      },
      "source": [
        "# Vectorize the training inputs -- Takes about 90 seconds to complete\n",
        "#   There are two types of vectors:\n",
        "#     1. Count vectorizer\n",
        "#     2. Term Frequency-Inverse Document Frequency (TF-IDF)\n",
        "\n",
        "\n",
        "print(\"- Training Count Vectorizer -\")\n",
        "# (Write code here)\n",
        "cVec = CountVectorizer(tokenizer=tokenizer)\n",
        "count_X = cVec.fit_transform(corpus)\n",
        "\n",
        "\n",
        "\n",
        "\n",
        "print(\"- Training TF-IDF Vectorizer -\")\n",
        "# (Write code here)\n",
        "tVec = TfidfVectorizer(tokenizer=tokenizer)\n",
        "tfidf_X = tVec.fit_transform(corpus)\n",
        "\n",
        "\n",
        "\n",
        "\n",
        "# (Keep the following lines)\n",
        "print(\"\\n### Vectorizing Complete ###\\n\")"
      ],
      "execution_count": 17,
      "outputs": [
        {
          "output_type": "stream",
          "name": "stdout",
          "text": [
            "- Training Count Vectorizer -\n",
            "- Training TF-IDF Vectorizer -\n",
            "\n",
            "### Vectorizing Complete ###\n",
            "\n"
          ]
        }
      ]
    },
    {
      "cell_type": "markdown",
      "metadata": {
        "id": "UujcLc_sUSdI"
      },
      "source": [
        "## Task 3a (optional) - Count the test email tokens\n",
        "1. Print the count of each *token* from **test_email**"
      ]
    },
    {
      "cell_type": "code",
      "metadata": {
        "id": "az8e0qbLupMQ",
        "colab": {
          "base_uri": "https://localhost:8080/"
        },
        "outputId": "df0c7a7e-34f9-45eb-f162-408ad74919fb"
      },
      "source": [
        "# Manually perform term count on test_email\n",
        "# (Write code here)\n",
        "for i in list(dict.fromkeys(tokenized_email)):\n",
        "  print(\"{} - {}\".format(tokenized_email.count(i), i))\n",
        "\n",
        "\n",
        "\n"
      ],
      "execution_count": 15,
      "outputs": [
        {
          "output_type": "stream",
          "name": "stdout",
          "text": [
            "1 - east\n",
            "1 - asian\n",
            "1 - font\n",
            "1 - lenni\n",
            "1 - thank\n",
            "1 - support\n",
            "1 - instal\n",
            "1 - unifont\n",
            "1 - well\n",
            "1 - nima\n",
            "2 - unsubscrib\n",
            "1 - email\n",
            "1 - debian-user-request\n",
            "2 - lists.debian.org\n",
            "1 - subject\n",
            "1 - troubl\n",
            "1 - contact\n",
            "1 - listmast\n"
          ]
        }
      ]
    },
    {
      "cell_type": "markdown",
      "metadata": {
        "id": "YLMzUWT5VQMk"
      },
      "source": [
        "## Task 3b (optional) - View the test email vectorizers\n",
        "1. Create a new **CountVectorizer** and **TfidfVectorizer** for demonstration\n",
        "2. Train the new vectorizers on **test_email** using **fit_transform**\n",
        "3. Print the results of each *transform*"
      ]
    },
    {
      "cell_type": "code",
      "metadata": {
        "id": "J0Zk9sYugzDy",
        "colab": {
          "base_uri": "https://localhost:8080/"
        },
        "outputId": "80c3d9e6-7421-4b2b-cb1b-55415b8213a5"
      },
      "source": [
        "example_cVec = CountVectorizer(tokenizer=tokenizer)\n",
        "example_X = example_cVec.fit_transform([test_email])\n",
        "\n",
        "print(\"\\n- Count Vectorizer (test_email) -\\n\")\n",
        "# (Write code here)\n",
        "print(example_X)\n",
        "\n",
        "\n",
        "\n",
        "# (Keep the following lines)\n",
        "print()\n",
        "print(\"=\"* 50)\n",
        "print()\n",
        "\n",
        "example_tVec = TfidfVectorizer(tokenizer=tokenizer)\n",
        "example_X = example_tVec.fit_transform([test_email])\n",
        "\n",
        "\n",
        "\n",
        "print(\"\\n- TFidf Vectorizer (test_email) -\\n\")\n",
        "# (Write code here)\n",
        "print(example_X)\n",
        "\n",
        "\n"
      ],
      "execution_count": 16,
      "outputs": [
        {
          "output_type": "stream",
          "name": "stdout",
          "text": [
            "\n",
            "- Count Vectorizer (test_email) -\n",
            "\n",
            "  (0, 3)\t1\n",
            "  (0, 0)\t1\n",
            "  (0, 5)\t1\n",
            "  (0, 7)\t1\n",
            "  (0, 13)\t1\n",
            "  (0, 12)\t1\n",
            "  (0, 6)\t1\n",
            "  (0, 15)\t1\n",
            "  (0, 17)\t1\n",
            "  (0, 10)\t1\n",
            "  (0, 16)\t2\n",
            "  (0, 4)\t1\n",
            "  (0, 2)\t1\n",
            "  (0, 9)\t2\n",
            "  (0, 11)\t1\n",
            "  (0, 14)\t1\n",
            "  (0, 1)\t1\n",
            "  (0, 8)\t1\n",
            "\n",
            "==================================================\n",
            "\n",
            "\n",
            "- TFidf Vectorizer (test_email) -\n",
            "\n",
            "  (0, 8)\t0.20412414523193154\n",
            "  (0, 1)\t0.20412414523193154\n",
            "  (0, 14)\t0.20412414523193154\n",
            "  (0, 11)\t0.20412414523193154\n",
            "  (0, 9)\t0.4082482904638631\n",
            "  (0, 2)\t0.20412414523193154\n",
            "  (0, 4)\t0.20412414523193154\n",
            "  (0, 16)\t0.4082482904638631\n",
            "  (0, 10)\t0.20412414523193154\n",
            "  (0, 17)\t0.20412414523193154\n",
            "  (0, 15)\t0.20412414523193154\n",
            "  (0, 6)\t0.20412414523193154\n",
            "  (0, 12)\t0.20412414523193154\n",
            "  (0, 13)\t0.20412414523193154\n",
            "  (0, 7)\t0.20412414523193154\n",
            "  (0, 5)\t0.20412414523193154\n",
            "  (0, 0)\t0.20412414523193154\n",
            "  (0, 3)\t0.20412414523193154\n"
          ]
        },
        {
          "output_type": "stream",
          "name": "stderr",
          "text": [
            "/usr/local/lib/python3.10/dist-packages/sklearn/feature_extraction/text.py:528: UserWarning: The parameter 'token_pattern' will not be used since 'tokenizer' is not None'\n",
            "  warnings.warn(\n"
          ]
        }
      ]
    },
    {
      "cell_type": "markdown",
      "metadata": {
        "id": "TeE--QtjjhIV"
      },
      "source": [
        "# Load Testing Data\n",
        "With our vectorizers trained, we're going to use them to calculate the probabilities on our testing data."
      ]
    },
    {
      "cell_type": "code",
      "metadata": {
        "id": "QCkWLePj0W-b"
      },
      "source": [
        "# List first 10 files in \"test\" directory\n",
        "#   The labels for each email are in the file name\n",
        "os.listdir(data_dir + '/test')[:10]"
      ],
      "execution_count": null,
      "outputs": []
    },
    {
      "cell_type": "markdown",
      "metadata": {
        "id": "F8XRvFQiWYDB"
      },
      "source": [
        "## Task 4 - Load the testing data\n",
        "1. Create two *list()* arrays: **test_corpus** and **test_labels**\n",
        "2. Load the email bodies from from the **/test** directory into the *test_corpus* array\n",
        "3. Load the labels for each email into the *test_labels* array\n",
        "\n",
        "\\* The lengths of *test_corpus* and *test_labels* should be identical"
      ]
    },
    {
      "cell_type": "code",
      "metadata": {
        "id": "sOZUSpyDzFq6",
        "colab": {
          "base_uri": "https://localhost:8080/"
        },
        "outputId": "6208336b-4583-4fdb-895b-4d48b389e2cd"
      },
      "source": [
        "# Load the testing data\n",
        "#   \"test_corpus\" is used to store all of the email bodies in a list\n",
        "#   \"test_labels\" is used to store all of the labes for those email bodies\n",
        "\n",
        "test_corpus = []   # X values\n",
        "test_labels = []   # Y values\n",
        "\n",
        "# Data and label arrays\n",
        "# (Write code here)\n",
        "\n",
        "\n",
        "\n",
        "# Load all of the emails from the \"test\" directory\n",
        "# (Write code here)\n",
        "\n",
        "print(\"- Loading Test Set -\")\n",
        "for filename in os.listdir(data_dir + '/test'):\n",
        "  with open(data_dir + '/test/' + filename, 'r') as f:\n",
        "    test_corpus.append(f.read())\n",
        "    label = re.split(\"txt\\.\", filename)[1]\n",
        "    test_labels.append(label)\n",
        "\n",
        "\n",
        "# (Keep the following lines)\n",
        "print(\"\\n### Loading Complete ###\\n\")"
      ],
      "execution_count": 18,
      "outputs": [
        {
          "output_type": "stream",
          "name": "stdout",
          "text": [
            "- Loading Test Set -\n",
            "\n",
            "### Loading Complete ###\n",
            "\n"
          ]
        }
      ]
    },
    {
      "cell_type": "code",
      "metadata": {
        "id": "C3VqmIM81nGf"
      },
      "source": [
        "# Print counts of each class\n",
        "count_test_classes = pd.value_counts(test_labels)\n",
        "print(\"Ham:\", count_test_classes['ham'])\n",
        "print(\"Spam:\", count_test_classes['spam'])\n",
        "\n",
        "# Graph counts of each class\n",
        "count_test_classes.plot(kind=\"bar\", fontsize=16)\n",
        "plt.title(\"Class Count (Testing)\", fontsize=20)\n",
        "plt.xticks(rotation=\"horizontal\")\n",
        "plt.xlabel(\"Class\", fontsize=20)\n",
        "plt.ylabel(\"Class Count\", fontsize=20)\n",
        "plt.show()"
      ],
      "execution_count": null,
      "outputs": []
    },
    {
      "cell_type": "markdown",
      "metadata": {
        "id": "L08z7zxuYNs3"
      },
      "source": [
        "## Task 5 - Vectorize the testing data\n",
        "1. Use **cVec** to *transform* **test_corpus**\\\n",
        "a. Save the result as **test_count_X**\n",
        "\n",
        "2. Use **tVec** to *transform* **test_corpus**\\\n",
        "a. Save the result as **test_tfidf_X**"
      ]
    },
    {
      "cell_type": "code",
      "metadata": {
        "id": "PoDt2Qzx2_qZ",
        "colab": {
          "base_uri": "https://localhost:8080/"
        },
        "outputId": "f5516871-f446-4e56-88f1-7639729e344b"
      },
      "source": [
        "# Vectorize the testing inputs -- Takes about 30 seconds to complete\n",
        "#   Use 'transform' instead of 'fit_transform' because we've already trained our vectorizer\n",
        "\n",
        "\n",
        "print(\"- Count Vectorizer -\")\n",
        "# (Write code here)\n",
        "test_count_X = cVec.transform(test_corpus)\n",
        "\n",
        "\n",
        "\n",
        "print(\"- Tfidf Vectorizer -\")\n",
        "# (Write code here)\n",
        "test_tfidf_X = tVec.transform(test_corpus)\n",
        "\n",
        "\n",
        "\n",
        "# (Keep the following lines)\n",
        "print(\"\\n### Vectorizing Complete ###\\n\")"
      ],
      "execution_count": 19,
      "outputs": [
        {
          "output_type": "stream",
          "name": "stdout",
          "text": [
            "- Count Vectorizer -\n",
            "- Tfidf Vectorizer -\n",
            "\n",
            "### Vectorizing Complete ###\n",
            "\n"
          ]
        }
      ]
    },
    {
      "cell_type": "markdown",
      "metadata": {
        "id": "UyiNCVFlloOL"
      },
      "source": [
        "# Test and Evaluate the Models\n",
        "OK, we have our training data loaded and our testing data loaded. Now it's time to train and evaluate our models.\n",
        "\n",
        "But first, we're going to define a helper function to display our evaluation reports."
      ]
    },
    {
      "cell_type": "code",
      "metadata": {
        "id": "qD3LWdNbYvqZ",
        "colab": {
          "base_uri": "https://localhost:8080/"
        },
        "outputId": "a214fc6c-1719-4148-8bea-91734266374f"
      },
      "source": [
        "# Define report generator\n",
        "# (No action Needed)\n",
        "\n",
        "def generate_report(cmatrix, score, creport):\n",
        "  \"\"\"Generates and displays graphical reports\n",
        "  Keyword arguments:\n",
        "    cmatrix - Confusion matrix generated by the model\n",
        "    score --- Score generated by the model\n",
        "    creport - Classification Report generated by the model\n",
        "\n",
        "  :Returns -- N/A\n",
        "  \"\"\"\n",
        "\n",
        "  # Transform cmatrix because Sklearn has pred as columns and actual as rows.\n",
        "  cmatrix = cmatrix.T\n",
        "\n",
        "  # Generate confusion matrix heatmap\n",
        "  plt.figure(figsize=(5,5))\n",
        "  sns.heatmap(cmatrix,\n",
        "              annot=True,\n",
        "              fmt=\"d\",\n",
        "              linewidths=.5,\n",
        "              square = True,\n",
        "              cmap = 'Blues',\n",
        "              annot_kws={\"size\": 16},\n",
        "              xticklabels=['ham', 'spam'],\n",
        "              yticklabels=['ham', 'spam'])\n",
        "\n",
        "  plt.xticks(rotation='horizontal', fontsize=16)\n",
        "  plt.yticks(rotation='horizontal', fontsize=16)\n",
        "  plt.xlabel('Actual Label', size=20);\n",
        "  plt.ylabel('Predicted Label', size=20);\n",
        "\n",
        "  title = 'Accuracy Score: {0:.4f}'.format(score)\n",
        "  plt.title(title, size = 20);\n",
        "\n",
        "  # Display classification report and confusion matrix\n",
        "  print(creport)\n",
        "  plt.show()\n",
        "\n",
        "\n",
        "print(\"\\n### Report Generator Defined ###\\n\")"
      ],
      "execution_count": 20,
      "outputs": [
        {
          "output_type": "stream",
          "name": "stdout",
          "text": [
            "\n",
            "### Report Generator Defined ###\n",
            "\n"
          ]
        }
      ]
    },
    {
      "cell_type": "markdown",
      "metadata": {
        "id": "cndMVm3Qht9r"
      },
      "source": [
        "## Task 6a - Train and evaluate the MNB-TFIDF model\n",
        "1. Create **mnb_tfidf** as a **MultinomialNB()** constructor\n",
        "2. Use **fit** to train *mnb_tfidf* on the training data (*tfidf_X*) and training labels (*labels*)\n",
        "3. Evaluate the model with the testing data (*test_tfidf_X*) and testing labels (*test_labels*):\\\n",
        "a. Use the **score** function in *mnb_tfidf* to calculate model accuracy; save the results as **score_mnb_tfidf**\\\n",
        "b. Use the **predict** function in *mnb_tfidf* to generate model predictions; save the results as **predictions_mnb_tfidf**\\\n",
        "c. Generate the confusion matrix with **confusion_matrix**, using the predictons and labels; save the results as **cmatrix_mnb_tfidf**\\\n",
        "d. Generate the classification report with **classification_report**, using the predictions and labels; save the results as **creport_mnb_tfidf**"
      ]
    },
    {
      "cell_type": "code",
      "metadata": {
        "id": "X62-VpY3MrUw",
        "colab": {
          "base_uri": "https://localhost:8080/",
          "height": 655
        },
        "outputId": "a398aa23-46a8-4dbf-ab6a-e490e20fbe37"
      },
      "source": [
        "# Multinomial Naive Bayesian with TF-IDF\n",
        "\n",
        "# Train the model\n",
        "# (Write code here)\n",
        "mnb_tfidf = MultinomialNB()\n",
        "mnb_tfidf.fit(tfidf_X, labels)\n",
        "\n",
        "\n",
        "# Test the mode (score, predictions, confusion matrix, classification report)\n",
        "# (Write code here)\n",
        "score_mnb_tfidf = mnb_tfidf.score(test_tfidf_X, test_labels)\n",
        "predictions_mnb_tfidf = mnb_tfidf.predict(test_tfidf_X)\n",
        "cmatrix_mnb_tfidf = confusion_matrix(test_labels, predictions_mnb_tfidf)\n",
        "creport_mnb_tfidf = classification_report(test_labels, predictions_mnb_tfidf)\n",
        "\n",
        "\n",
        "# (Keep the following lines)\n",
        "print(\"\\n### Model Built ###\\n\")\n",
        "generate_report(cmatrix_mnb_tfidf, score_mnb_tfidf, creport_mnb_tfidf)"
      ],
      "execution_count": 21,
      "outputs": [
        {
          "output_type": "stream",
          "name": "stdout",
          "text": [
            "\n",
            "### Model Built ###\n",
            "\n",
            "              precision    recall  f1-score   support\n",
            "\n",
            "         ham       0.85      1.00      0.92       590\n",
            "        spam       1.00      0.61      0.76       276\n",
            "\n",
            "    accuracy                           0.88       866\n",
            "   macro avg       0.92      0.80      0.84       866\n",
            "weighted avg       0.89      0.88      0.87       866\n",
            "\n"
          ]
        },
        {
          "output_type": "display_data",
          "data": {
            "text/plain": [
              "<Figure size 500x500 with 2 Axes>"
            ],
            "image/png": "[encoded data removed]"
          },
          "metadata": {}
        }
      ]
    },
    {
      "cell_type": "markdown",
      "metadata": {
        "id": "F7hyvnwxj5y-"
      },
      "source": [
        "## Task 6b - Train and evaluate the MNB-Count model\n",
        "1. Create **mnb_count** as a **MultinomialNB()** constructor\n",
        "2. Use **fit** to train *mnb_count* on the training data (*count_X*) and training labels (*labels*)\n",
        "3. Evaluate the model with the testing data (*test_count_X*) and testing labels (*test_labels*):\\\n",
        "a. Use the **score** function in *mnb_count* to calculate model accuracy; save the results as **score_mnb_count**\\\n",
        "b. Use the **predict** function in *mnb_count* to generate model predictions; save the results as **predictions_mnb_count**\\\n",
        "c. Generate the confusion matrix with **confusion_matrix**, using the predictons and labels; save the results as **cmatrix_mnb_count**\\\n",
        "d. Generate the classification report with **classification_report**, using the predictions and labels; save the results as **creport_mnb_count**"
      ]
    },
    {
      "cell_type": "code",
      "metadata": {
        "id": "3rzTGHNfMsBp",
        "colab": {
          "base_uri": "https://localhost:8080/",
          "height": 655
        },
        "outputId": "273b4008-e29e-40d3-b6b6-abe4949020c9"
      },
      "source": [
        "# Multinomial Naive Bayesian with Count Vectorizer\n",
        "\n",
        "# Train the model\n",
        "# (Write code here)\n",
        "mnb_count = MultinomialNB()\n",
        "mnb_count.fit(count_X, labels)\n",
        "\n",
        "# Test the mode (score, predictions, confusion matrix, classification report)\n",
        "# (Write code here)\n",
        "score_mnb_count = mnb_count.score(test_count_X, test_labels)\n",
        "predictions_mnb_count = mnb_count.predict(test_count_X)\n",
        "cmatrix_mnb_count = confusion_matrix(test_labels, predictions_mnb_count)\n",
        "creport_mnb_count = classification_report(test_labels, predictions_mnb_count)\n",
        "\n",
        "\n",
        "\n",
        "# (Keep the following lines)\n",
        "print(\"\\n### Model Built ###\\n\")\n",
        "generate_report(cmatrix_mnb_count, score_mnb_count, creport_mnb_count)"
      ],
      "execution_count": 22,
      "outputs": [
        {
          "output_type": "stream",
          "name": "stdout",
          "text": [
            "\n",
            "### Model Built ###\n",
            "\n",
            "              precision    recall  f1-score   support\n",
            "\n",
            "         ham       0.96      0.96      0.96       590\n",
            "        spam       0.91      0.92      0.91       276\n",
            "\n",
            "    accuracy                           0.94       866\n",
            "   macro avg       0.93      0.94      0.94       866\n",
            "weighted avg       0.94      0.94      0.94       866\n",
            "\n"
          ]
        },
        {
          "output_type": "display_data",
          "data": {
            "text/plain": [
              "<Figure size 500x500 with 2 Axes>"
            ],
            "image/png": "[encoded data removed]"
          },
          "metadata": {}
        }
      ]
    },
    {
      "cell_type": "markdown",
      "metadata": {
        "id": "3KmNRsISkTnc"
      },
      "source": [
        "## Task 6c - Train and evaluate the LGS-TFIDF model\n",
        "1. Create **lgs_tfidf** as a **LogisticRegression()** constructor, using the **lbfgs** *solver*\n",
        "2. Use **fit** to train *lgs_tfidf* on the training data (*tfidf_X*) and training labels (*labels*)\n",
        "3. Evaluate the model with the testing data (*test_tfidf_X*) and testing labels (*test_labels*):\\\n",
        "a. Use the **score** function in *lgs_tfidf* to calculate model accuracy; save the results as **score_lgs_tfidf**\\\n",
        "b. Use the **predict** function in *lgs_tfidf* to generate model predictions; save the results as **predictions_lgs_tfidf**\\\n",
        "c. Generate the confusion matrix with **confusion_matrix**, using the predictons and labels; save the results as **cmatrix_lgs_tfidf**\\\n",
        "d. Generate the classification report with **classification_report**, using the predictions and labels; save the results as **creport_lgs_tfidf**"
      ]
    },
    {
      "cell_type": "code",
      "metadata": {
        "id": "Yoc2efFxMsw0",
        "colab": {
          "base_uri": "https://localhost:8080/",
          "height": 655
        },
        "outputId": "a7ced5bd-a92a-4702-ac34-924a287bfe48"
      },
      "source": [
        "# Logistic Regression with TF-IDF\n",
        "\n",
        "# Train the model\n",
        "# (Write code here)\n",
        "lgs_tfidf = LogisticRegression(solver='lbfgs')\n",
        "lgs_tfidf.fit(tfidf_X, labels)\n",
        "\n",
        "\n",
        "\n",
        "# Test the mode (score, predictions, confusion matrix, classification report)\n",
        "# (Write code here)\n",
        "score_lgs_tfidf = lgs_tfidf.score(test_tfidf_X, test_labels)\n",
        "predictions_lgs_tfidf = lgs_tfidf.predict(test_tfidf_X)\n",
        "cmatrix_lgs_tfidf = confusion_matrix(test_labels, predictions_lgs_tfidf)\n",
        "creport_lgs_tfidf = classification_report(test_labels, predictions_lgs_tfidf)\n",
        "\n",
        "\n",
        "\n",
        "\n",
        "# (Keep the following lines)\n",
        "print(\"\\n### Model Built ###\\n\")\n",
        "generate_report(cmatrix_lgs_tfidf, score_lgs_tfidf, creport_lgs_tfidf)"
      ],
      "execution_count": 23,
      "outputs": [
        {
          "output_type": "stream",
          "name": "stdout",
          "text": [
            "\n",
            "### Model Built ###\n",
            "\n",
            "              precision    recall  f1-score   support\n",
            "\n",
            "         ham       0.95      0.99      0.97       590\n",
            "        spam       0.99      0.88      0.93       276\n",
            "\n",
            "    accuracy                           0.96       866\n",
            "   macro avg       0.97      0.94      0.95       866\n",
            "weighted avg       0.96      0.96      0.96       866\n",
            "\n"
          ]
        },
        {
          "output_type": "display_data",
          "data": {
            "text/plain": [
              "<Figure size 500x500 with 2 Axes>"
            ],
            "image/png": "[encoded data removed]"
          },
          "metadata": {}
        }
      ]
    },
    {
      "cell_type": "markdown",
      "metadata": {
        "id": "VgFq9cZ4kbzP"
      },
      "source": [
        "## Task 6d - Train and evaluate the LGS-Count model\n",
        "1. Create **lgs_count** as a **LogisticRegression()** constructor, using the **lbfgs** *solver*\n",
        "2. Use **fit** to train *lgs_count* on the training data (*count_X*) and training labels (*labels*)\n",
        "3. Evaluate the model with the testing data (*test_count_X*) and testing labels (*test_labels*):\\\n",
        "a. Use the **score** function in *lgs_count* to calculate model accuracy; save the results as **score_lgs_count**\\\n",
        "b. Use the **predict** function in *lgs_count* to generate model predictions; save the results as **predictions_lgs_count**\\\n",
        "c. Generate the confusion matrix with **confusion_matrix**, using the predictons and labels; save the results as **cmatrix_lgs_count**\\\n",
        "d. Generate the classification report with **classification_report**, using the predictions and labels; save the results as **creport_lgs_count**"
      ]
    },
    {
      "cell_type": "code",
      "metadata": {
        "id": "v5vj_np2Mtb4",
        "colab": {
          "base_uri": "https://localhost:8080/",
          "height": 655
        },
        "outputId": "8e9c34f3-7ad5-47c1-e5e0-035a267cdaa4"
      },
      "source": [
        "# Logistic Regression with Count Vectorizer\n",
        "\n",
        "# Train the model\n",
        "# (Write code here)\n",
        "lgs_count = LogisticRegression(solver='lbfgs')\n",
        "lgs_count.fit(count_X, labels)\n",
        "\n",
        "# Test the mode (score, predictions, confusion matrix, classification report)\n",
        "# (Write code here)\n",
        "score_lgs_count = lgs_count.score(test_count_X, test_labels)\n",
        "predictions_lgs_count = lgs_count.predict(test_count_X)\n",
        "cmatrix_lgs_count = confusion_matrix(test_labels, predictions_lgs_count)\n",
        "creport_lgs_count = classification_report(test_labels, predictions_lgs_count)\n",
        "\n",
        "\n",
        "\n",
        "# (Keep the following lines)\n",
        "print(\"\\n### Model Built ###\\n\")\n",
        "generate_report(cmatrix_lgs_count, score_lgs_count, creport_lgs_count)"
      ],
      "execution_count": 24,
      "outputs": [
        {
          "output_type": "stream",
          "name": "stdout",
          "text": [
            "\n",
            "### Model Built ###\n",
            "\n",
            "              precision    recall  f1-score   support\n",
            "\n",
            "         ham       0.98      0.99      0.98       590\n",
            "        spam       0.97      0.96      0.96       276\n",
            "\n",
            "    accuracy                           0.98       866\n",
            "   macro avg       0.98      0.97      0.97       866\n",
            "weighted avg       0.98      0.98      0.98       866\n",
            "\n"
          ]
        },
        {
          "output_type": "display_data",
          "data": {
            "text/plain": [
              "<Figure size 500x500 with 2 Axes>"
            ],
            "image/png": "[encoded data removed]"
          },
          "metadata": {}
        }
      ]
    },
    {
      "cell_type": "code",
      "metadata": {
        "id": "NS37VaM0oEDJ",
        "colab": {
          "base_uri": "https://localhost:8080/"
        },
        "outputId": "24c36e6e-4aa2-4969-bc29-f905fc8c0575"
      },
      "source": [
        "# Real world spam email (Retrieved 5/20/2019)\n",
        "\n",
        "test_spam_email = \"\"\"Your latest issue is available NOW! If you do not want issue notifications, click here to unsubscribe.\n",
        "logo\n",
        "Hi GEORGE,\n",
        "\n",
        "Your latest digital issue is available NOW!\n",
        "\n",
        "Enjoy all the latest from InStyle right on your phone, computer or tablet!\n",
        "\n",
        "View your library now.\n",
        "\n",
        "READ NOW\n",
        "Your digital issue is delivered by emagazines.com. To unsubscribe, go here. Do not reply to this email. For more information, review our Privacy Policy and customer care options visit Customer Support.\n",
        "\n",
        "Copyright © 2017 - 2019 eMagazines. All Rights Reserved. 230 W Huron St., Ste 500, Chicago, IL 60654\n",
        "\"\"\"\n",
        "print(test_spam_email)"
      ],
      "execution_count": 26,
      "outputs": [
        {
          "output_type": "stream",
          "name": "stdout",
          "text": [
            "Your latest issue is available NOW! If you do not want issue notifications, click here to unsubscribe.\n",
            "logo\n",
            "Hi GEORGE,\n",
            "\n",
            "Your latest digital issue is available NOW!\n",
            "\n",
            "Enjoy all the latest from InStyle right on your phone, computer or tablet!\n",
            "\n",
            "View your library now.\n",
            "\n",
            "READ NOW\n",
            "Your digital issue is delivered by emagazines.com. To unsubscribe, go here. Do not reply to this email. For more information, review our Privacy Policy and customer care options visit Customer Support.\n",
            "\n",
            "Copyright © 2017 - 2019 eMagazines. All Rights Reserved. 230 W Huron St., Ste 500, Chicago, IL 60654\n",
            "\n"
          ]
        }
      ]
    },
    {
      "cell_type": "markdown",
      "metadata": {
        "id": "C0aUsH92lJzq"
      },
      "source": [
        "## Task 7 - Make a prediction\n",
        "1. Use the *vectorizers* and *models* created to perform predictions on **test_email** and **test_spam_email**"
      ]
    },
    {
      "cell_type": "code",
      "metadata": {
        "id": "7HPn0uJEZ7_H",
        "colab": {
          "base_uri": "https://localhost:8080/"
        },
        "outputId": "c834b7ad-4c7b-4d8a-d165-9959c0a56997"
      },
      "source": [
        "# Enter an email to be predicted\n",
        "# (Write code here)\n",
        "\n",
        "working_email = test_spam_email\n",
        "\n",
        "\n",
        "test_email_tfidf = tVec.transform([working_email])\n",
        "test_email_count = cVec.transform([working_email])\n",
        "\n",
        "test_email_mnb_tfidf_pred = mnb_tfidf.predict(test_email_tfidf)\n",
        "test_email_mnb_count_pred = mnb_count.predict(test_email_count)\n",
        "test_email_lgs_tfidf_pred = lgs_tfidf.predict(test_email_tfidf)\n",
        "test_email_lgs_count_pred = lgs_count.predict(test_email_count)\n",
        "\n",
        "\n",
        "print(working_email)\n",
        "\n",
        "\n",
        "\n",
        "# (Keep the following lines)\n",
        "print(\"\\n- Model Predictions -\\n\")\n",
        "print(\"MNB/TFIDF:\", test_email_mnb_tfidf_pred)\n",
        "print(\"MNB/Count:\", test_email_mnb_count_pred)\n",
        "\n",
        "print(\"LGS/TFIDF:\", test_email_lgs_tfidf_pred)\n",
        "print(\"LGS/Count:\", test_email_lgs_count_pred)"
      ],
      "execution_count": 27,
      "outputs": [
        {
          "output_type": "stream",
          "name": "stdout",
          "text": [
            "Your latest issue is available NOW! If you do not want issue notifications, click here to unsubscribe.\n",
            "logo\n",
            "Hi GEORGE,\n",
            "\n",
            "Your latest digital issue is available NOW!\n",
            "\n",
            "Enjoy all the latest from InStyle right on your phone, computer or tablet!\n",
            "\n",
            "View your library now.\n",
            "\n",
            "READ NOW\n",
            "Your digital issue is delivered by emagazines.com. To unsubscribe, go here. Do not reply to this email. For more information, review our Privacy Policy and customer care options visit Customer Support.\n",
            "\n",
            "Copyright © 2017 - 2019 eMagazines. All Rights Reserved. 230 W Huron St., Ste 500, Chicago, IL 60654\n",
            "\n",
            "\n",
            "- Model Predictions -\n",
            "\n",
            "MNB/TFIDF: ['ham']\n",
            "MNB/Count: ['spam']\n",
            "LGS/TFIDF: ['spam']\n",
            "LGS/Count: ['spam']\n"
          ]
        }
      ]
    }
  ]
}